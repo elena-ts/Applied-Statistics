{
 "cells": [
  {
   "cell_type": "markdown",
   "id": "7da6badd",
   "metadata": {
    "id": "7da6badd"
   },
   "source": [
    "# Задания"
   ]
  },
  {
   "cell_type": "code",
   "execution_count": 19,
   "id": "a5684e7c",
   "metadata": {
    "id": "a5684e7c"
   },
   "outputs": [],
   "source": [
    "import numpy as np\n",
    "import matplotlib.pyplot as plt\n",
    "import pandas as pd\n",
    "from datetime import datetime\n",
    "import math"
   ]
  },
  {
   "cell_type": "code",
   "execution_count": 20,
   "id": "7af7fdb6",
   "metadata": {},
   "outputs": [],
   "source": [
    "import scipy.stats as stats"
   ]
  },
  {
   "cell_type": "code",
   "execution_count": 21,
   "id": "a9638577",
   "metadata": {},
   "outputs": [],
   "source": [
    "df = pd.read_csv('pizza.csv', sep=';')"
   ]
  },
  {
   "cell_type": "code",
   "execution_count": 22,
   "id": "bdd41d14",
   "metadata": {},
   "outputs": [
    {
     "data": {
      "text/html": [
       "<div>\n",
       "<style scoped>\n",
       "    .dataframe tbody tr th:only-of-type {\n",
       "        vertical-align: middle;\n",
       "    }\n",
       "\n",
       "    .dataframe tbody tr th {\n",
       "        vertical-align: top;\n",
       "    }\n",
       "\n",
       "    .dataframe thead th {\n",
       "        text-align: right;\n",
       "    }\n",
       "</style>\n",
       "<table border=\"1\" class=\"dataframe\">\n",
       "  <thead>\n",
       "    <tr style=\"text-align: right;\">\n",
       "      <th></th>\n",
       "      <th>order_details_id</th>\n",
       "      <th>order_id</th>\n",
       "      <th>pizza_id</th>\n",
       "      <th>order_date</th>\n",
       "      <th>order_time</th>\n",
       "      <th>unit_price</th>\n",
       "      <th>total_price</th>\n",
       "      <th>pizza_size</th>\n",
       "      <th>pizza_category</th>\n",
       "      <th>pizza_ingredients</th>\n",
       "      <th>pizza_name</th>\n",
       "      <th>lead_time</th>\n",
       "    </tr>\n",
       "  </thead>\n",
       "  <tbody>\n",
       "    <tr>\n",
       "      <th>0</th>\n",
       "      <td>1</td>\n",
       "      <td>1</td>\n",
       "      <td>hawaiian_m</td>\n",
       "      <td>2015-01-01 00:00:00</td>\n",
       "      <td>11:38:36</td>\n",
       "      <td>13,25</td>\n",
       "      <td>13,25</td>\n",
       "      <td>M</td>\n",
       "      <td>Classic</td>\n",
       "      <td>Sliced Ham, Pineapple, Mozzarella Cheese</td>\n",
       "      <td>The Hawaiian Pizza</td>\n",
       "      <td>2015-01-01 11:53:30</td>\n",
       "    </tr>\n",
       "    <tr>\n",
       "      <th>1</th>\n",
       "      <td>2</td>\n",
       "      <td>2</td>\n",
       "      <td>classic_dlx_m</td>\n",
       "      <td>2015-01-01 00:00:00</td>\n",
       "      <td>11:57:40</td>\n",
       "      <td>16</td>\n",
       "      <td>16</td>\n",
       "      <td>M</td>\n",
       "      <td>Classic</td>\n",
       "      <td>Pepperoni, Mushrooms, Red Onions, Red Peppers,...</td>\n",
       "      <td>The Classic Deluxe Pizza</td>\n",
       "      <td>2015-01-01 12:16:26</td>\n",
       "    </tr>\n",
       "    <tr>\n",
       "      <th>2</th>\n",
       "      <td>3</td>\n",
       "      <td>2</td>\n",
       "      <td>five_cheese_l</td>\n",
       "      <td>2015-01-01 00:00:00</td>\n",
       "      <td>11:57:40</td>\n",
       "      <td>18,5</td>\n",
       "      <td>18,5</td>\n",
       "      <td>L</td>\n",
       "      <td>Veggie</td>\n",
       "      <td>Mozzarella Cheese, Provolone Cheese, Smoked Go...</td>\n",
       "      <td>The Five Cheese Pizza</td>\n",
       "      <td>2015-01-01 12:16:19</td>\n",
       "    </tr>\n",
       "    <tr>\n",
       "      <th>3</th>\n",
       "      <td>4</td>\n",
       "      <td>2</td>\n",
       "      <td>ital_supr_l</td>\n",
       "      <td>2015-01-01 00:00:00</td>\n",
       "      <td>11:57:40</td>\n",
       "      <td>20,75</td>\n",
       "      <td>20,75</td>\n",
       "      <td>L</td>\n",
       "      <td>Supreme</td>\n",
       "      <td>Calabrese Salami, Capocollo, Tomatoes, Red Oni...</td>\n",
       "      <td>The Italian Supreme Pizza</td>\n",
       "      <td>2015-01-01 12:10:58</td>\n",
       "    </tr>\n",
       "    <tr>\n",
       "      <th>4</th>\n",
       "      <td>5</td>\n",
       "      <td>2</td>\n",
       "      <td>mexicana_m</td>\n",
       "      <td>2015-01-01 00:00:00</td>\n",
       "      <td>11:57:40</td>\n",
       "      <td>16</td>\n",
       "      <td>16</td>\n",
       "      <td>M</td>\n",
       "      <td>Veggie</td>\n",
       "      <td>Tomatoes, Red Peppers, Jalapeno Peppers, Red O...</td>\n",
       "      <td>The Mexicana Pizza</td>\n",
       "      <td>2015-01-01 12:14:24</td>\n",
       "    </tr>\n",
       "  </tbody>\n",
       "</table>\n",
       "</div>"
      ],
      "text/plain": [
       "   order_details_id  order_id       pizza_id           order_date order_time  \\\n",
       "0                 1         1     hawaiian_m  2015-01-01 00:00:00   11:38:36   \n",
       "1                 2         2  classic_dlx_m  2015-01-01 00:00:00   11:57:40   \n",
       "2                 3         2  five_cheese_l  2015-01-01 00:00:00   11:57:40   \n",
       "3                 4         2    ital_supr_l  2015-01-01 00:00:00   11:57:40   \n",
       "4                 5         2     mexicana_m  2015-01-01 00:00:00   11:57:40   \n",
       "\n",
       "  unit_price total_price pizza_size pizza_category  \\\n",
       "0      13,25       13,25          M        Classic   \n",
       "1         16          16          M        Classic   \n",
       "2       18,5        18,5          L         Veggie   \n",
       "3      20,75       20,75          L        Supreme   \n",
       "4         16          16          M         Veggie   \n",
       "\n",
       "                                   pizza_ingredients  \\\n",
       "0           Sliced Ham, Pineapple, Mozzarella Cheese   \n",
       "1  Pepperoni, Mushrooms, Red Onions, Red Peppers,...   \n",
       "2  Mozzarella Cheese, Provolone Cheese, Smoked Go...   \n",
       "3  Calabrese Salami, Capocollo, Tomatoes, Red Oni...   \n",
       "4  Tomatoes, Red Peppers, Jalapeno Peppers, Red O...   \n",
       "\n",
       "                  pizza_name            lead_time  \n",
       "0         The Hawaiian Pizza  2015-01-01 11:53:30  \n",
       "1   The Classic Deluxe Pizza  2015-01-01 12:16:26  \n",
       "2      The Five Cheese Pizza  2015-01-01 12:16:19  \n",
       "3  The Italian Supreme Pizza  2015-01-01 12:10:58  \n",
       "4         The Mexicana Pizza  2015-01-01 12:14:24  "
      ]
     },
     "execution_count": 22,
     "metadata": {},
     "output_type": "execute_result"
    }
   ],
   "source": [
    "df.head()"
   ]
  },
  {
   "cell_type": "markdown",
   "id": "a788fc8d",
   "metadata": {
    "id": "a788fc8d"
   },
   "source": [
    "## Доверительные интервалы"
   ]
  },
  {
   "cell_type": "markdown",
   "id": "28ef55c5",
   "metadata": {
    "id": "28ef55c5"
   },
   "source": [
    "### Задание 1"
   ]
  },
  {
   "cell_type": "markdown",
   "id": "84673cba",
   "metadata": {
    "id": "84673cba"
   },
   "source": [
    "Построй диаграмму зависимости количества проданной пиццы от дня недели.\n",
    "Вывести дни недели, в которые продано **больше** и  **меньше** всего пиццы."
   ]
  },
  {
   "cell_type": "code",
   "execution_count": 23,
   "id": "1f4ef98c",
   "metadata": {},
   "outputs": [],
   "source": [
    "df['order_date'] = pd.to_datetime(df['order_date'], format='%Y-%m-%d')"
   ]
  },
  {
   "cell_type": "code",
   "execution_count": 24,
   "id": "38ec4017",
   "metadata": {},
   "outputs": [],
   "source": [
    "df['day_of_week'] = df['order_date'].dt.dayofweek + 1"
   ]
  },
  {
   "cell_type": "code",
   "execution_count": 25,
   "id": "cfac0989",
   "metadata": {},
   "outputs": [
    {
     "data": {
      "image/png": "[encoded data removed]",
      "text/plain": [
       "<Figure size 432x288 with 1 Axes>"
      ]
     },
     "metadata": {
      "needs_background": "light"
     },
     "output_type": "display_data"
    }
   ],
   "source": [
    "plt.hist(df['day_of_week'], bins=[1,2,3,4,5,6,7,8], align='left', rwidth=0.6, color = \"grey\", ec=\"black\")\n",
    "plt.xticks(range(1,8), ['ПН', 'ВТ', 'СР', 'ЧТ', 'ПТ', 'СБ', 'ВС'])\n",
    "plt.xlabel('День недели')\n",
    "plt.ylabel('Количество проданной пиццы')\n",
    "plt.title('Количество проданной пиццы по дням недели')\n",
    "plt.show()"
   ]
  },
  {
   "cell_type": "code",
   "execution_count": 26,
   "id": "5bcd7305",
   "metadata": {},
   "outputs": [],
   "source": [
    "df.insert(1, \"number_of_pizzas\", 1)"
   ]
  },
  {
   "cell_type": "code",
   "execution_count": 27,
   "id": "19d456e0",
   "metadata": {},
   "outputs": [],
   "source": [
    "df = df.replace({'day_of_week':{1:\"понедельник\", 2:\"вторник\", 3:\"среда\", 4:\"четверг\", 5:\"пятница\", 6:\"суббота\", 7:\"воскресенье\"}})"
   ]
  },
  {
   "cell_type": "code",
   "execution_count": 28,
   "id": "bdc827d0",
   "metadata": {},
   "outputs": [
    {
     "name": "stdout",
     "output_type": "stream",
     "text": [
      "максимально пиццы продано в четверг (857)\n",
      "минимально пиццы продано в воскресенье (628)\n"
     ]
    }
   ],
   "source": [
    "day_of_week_sales = df.groupby('day_of_week')['number_of_pizzas'].sum()\n",
    "most_sales_weekday = day_of_week_sales.idxmax()\n",
    "least_sales_weekday = day_of_week_sales.idxmin()\n",
    "print(f\"максимально пиццы продано в {most_sales_weekday} ({day_of_week_sales[most_sales_weekday]})\")\n",
    "print(f\"минимально пиццы продано в {least_sales_weekday} ({day_of_week_sales[least_sales_weekday]})\")"
   ]
  },
  {
   "cell_type": "markdown",
   "id": "59481936",
   "metadata": {},
   "source": [
    "# Задание 2¶\n",
    "Посчитай, сколько секунд необходимо для приготовления каждой пиццы по всем заказам. Значения сохранить в новый столбец - cook_time. Найти среднее, медианное, максимальное и минимальное время приготовления пиццы. Результат округлите до целого."
   ]
  },
  {
   "cell_type": "code",
   "execution_count": 29,
   "id": "8be5ef6e",
   "metadata": {},
   "outputs": [],
   "source": [
    "df[['data', 'time']] = df.lead_time.str.split(expand=True)"
   ]
  },
  {
   "cell_type": "code",
   "execution_count": 30,
   "id": "5bb14342",
   "metadata": {},
   "outputs": [
    {
     "data": {
      "text/plain": [
       "0       41916.0\n",
       "1       43060.0\n",
       "2       43060.0\n",
       "3       43060.0\n",
       "4       43060.0\n",
       "         ...   \n",
       "4995    61897.0\n",
       "4996    61897.0\n",
       "4997    61897.0\n",
       "4998    62647.0\n",
       "4999    63036.0\n",
       "Name: order_time, Length: 5000, dtype: float64"
      ]
     },
     "execution_count": 30,
     "metadata": {},
     "output_type": "execute_result"
    }
   ],
   "source": [
    "df['time']/ np.timedelta64(1, 's')\n",
    "df['order_time']/ np.timedelta64(1, 's')"
   ]
  },
  {
   "cell_type": "code",
   "execution_count": 31,
   "id": "5fa3e7ee",
   "metadata": {},
   "outputs": [],
   "source": [
    "df['cook_time'] =(df['time']/ np.timedelta64(1, 's')) - (df['order_time']/ np.timedelta64(1, 's'))"
   ]
  },
  {
   "cell_type": "code",
   "execution_count": 32,
   "id": "ca2156ed",
   "metadata": {},
   "outputs": [
    {
     "data": {
      "text/html": [
       "<div>\n",
       "<style scoped>\n",
       "    .dataframe tbody tr th:only-of-type {\n",
       "        vertical-align: middle;\n",
       "    }\n",
       "\n",
       "    .dataframe tbody tr th {\n",
       "        vertical-align: top;\n",
       "    }\n",
       "\n",
       "    .dataframe thead th {\n",
       "        text-align: right;\n",
       "    }\n",
       "</style>\n",
       "<table border=\"1\" class=\"dataframe\">\n",
       "  <thead>\n",
       "    <tr style=\"text-align: right;\">\n",
       "      <th></th>\n",
       "      <th>cook_time</th>\n",
       "    </tr>\n",
       "  </thead>\n",
       "  <tbody>\n",
       "    <tr>\n",
       "      <th>count</th>\n",
       "      <td>5000.0</td>\n",
       "    </tr>\n",
       "    <tr>\n",
       "      <th>mean</th>\n",
       "      <td>1007.0</td>\n",
       "    </tr>\n",
       "    <tr>\n",
       "      <th>std</th>\n",
       "      <td>181.0</td>\n",
       "    </tr>\n",
       "    <tr>\n",
       "      <th>min</th>\n",
       "      <td>444.0</td>\n",
       "    </tr>\n",
       "    <tr>\n",
       "      <th>25%</th>\n",
       "      <td>888.0</td>\n",
       "    </tr>\n",
       "    <tr>\n",
       "      <th>50%</th>\n",
       "      <td>1006.0</td>\n",
       "    </tr>\n",
       "    <tr>\n",
       "      <th>75%</th>\n",
       "      <td>1127.0</td>\n",
       "    </tr>\n",
       "    <tr>\n",
       "      <th>max</th>\n",
       "      <td>1609.0</td>\n",
       "    </tr>\n",
       "  </tbody>\n",
       "</table>\n",
       "</div>"
      ],
      "text/plain": [
       "       cook_time\n",
       "count     5000.0\n",
       "mean      1007.0\n",
       "std        181.0\n",
       "min        444.0\n",
       "25%        888.0\n",
       "50%       1006.0\n",
       "75%       1127.0\n",
       "max       1609.0"
      ]
     },
     "execution_count": 32,
     "metadata": {},
     "output_type": "execute_result"
    }
   ],
   "source": [
    "df[['cook_time']].describe().round(0)"
   ]
  },
  {
   "cell_type": "markdown",
   "id": "e3ddd404",
   "metadata": {
    "id": "e3ddd404"
   },
   "source": [
    "### Задание 3"
   ]
  },
  {
   "cell_type": "markdown",
   "id": "666426b6",
   "metadata": {
    "id": "666426b6"
   },
   "source": [
    "Построй 95% доверительный интервал для среднего времени приготовления пиццы в **секундах**. Интервал округли до целого\n",
    "> Для расчета стандартного отклонения используй `numpy.std(ddof=1)`"
   ]
  },
  {
   "cell_type": "code",
   "execution_count": 33,
   "id": "f6bbca54",
   "metadata": {},
   "outputs": [
    {
     "name": "stdout",
     "output_type": "stream",
     "text": [
      "(1002.0, 1012)\n"
     ]
    }
   ],
   "source": [
    "mean_cook_time = df['cook_time'].mean()\n",
    "cook_time_std = df['cook_time'].std(ddof=1)/5000**0.5\n",
    "ci = stats.t.interval(0.95, df=4999, loc=mean_cook_time, scale=cook_time_std)\n",
    "ci_rounded = ((ci[0].round(0)), int(ci[1].round(0)))\n",
    "print(ci_rounded)"
   ]
  },
  {
   "cell_type": "markdown",
   "id": "5ee86693",
   "metadata": {
    "id": "5ee86693"
   },
   "source": [
    "### Задание 4"
   ]
  },
  {
   "cell_type": "markdown",
   "id": "7de38e4e",
   "metadata": {
    "id": "7de38e4e"
   },
   "source": [
    "Хозяин ресторана хочет оптимизировать меню ресторана. При формировании цены на пиццу хозяин хочет учитывать время \n",
    "её изготовления. Давай найдем ту пиццу (pizza_name), у которой верхняя граница доверительного интервала её изготовления \n",
    "самая высокая.\n",
    "> Среди пицц, у которых за все время заказывали более 100 штук"
   ]
  },
  {
   "cell_type": "code",
   "execution_count": null,
   "id": "f188b848",
   "metadata": {},
   "outputs": [],
   "source": [
    "df['pizza_name'].value_counts().loc[lambda x : x > 100]"
   ]
  },
  {
   "cell_type": "code",
   "execution_count": 35,
   "id": "7a6cc65b",
   "metadata": {},
   "outputs": [],
   "source": [
    "df_a = df.groupby(\"pizza_name\").filter(lambda x: len(x) > 100)"
   ]
  },
  {
   "cell_type": "code",
   "execution_count": 36,
   "id": "2230b744",
   "metadata": {},
   "outputs": [],
   "source": [
    "stats = df_a.groupby(['pizza_name'])['cook_time'].agg(['mean', 'count', 'std'])"
   ]
  },
  {
   "cell_type": "code",
   "execution_count": 37,
   "id": "ce8ad435",
   "metadata": {},
   "outputs": [],
   "source": [
    "ci95_hi = []\n",
    "ci95_lo = []\n",
    "\n",
    "for i in stats.index:\n",
    "    m, c, s = stats.loc[i]\n",
    "    ci95_hi.append(m + 1.96*s/math.sqrt(c))\n",
    "    ci95_lo.append(m - 1.96*s/math.sqrt(c))\n",
    "    \n",
    "stats['ci95_hi'] = ci95_hi\n",
    "stats['ci95_lo'] = ci95_lo"
   ]
  },
  {
   "cell_type": "code",
   "execution_count": 38,
   "id": "7561e1d0",
   "metadata": {},
   "outputs": [
    {
     "data": {
      "text/plain": [
       "1068.4265622304822"
      ]
     },
     "execution_count": 38,
     "metadata": {},
     "output_type": "execute_result"
    }
   ],
   "source": [
    "stats['ci95_hi'].max()"
   ]
  },
  {
   "cell_type": "code",
   "execution_count": 39,
   "id": "70556723",
   "metadata": {},
   "outputs": [
    {
     "data": {
      "text/html": [
       "<div>\n",
       "<style scoped>\n",
       "    .dataframe tbody tr th:only-of-type {\n",
       "        vertical-align: middle;\n",
       "    }\n",
       "\n",
       "    .dataframe tbody tr th {\n",
       "        vertical-align: top;\n",
       "    }\n",
       "\n",
       "    .dataframe thead th {\n",
       "        text-align: right;\n",
       "    }\n",
       "</style>\n",
       "<table border=\"1\" class=\"dataframe\">\n",
       "  <thead>\n",
       "    <tr style=\"text-align: right;\">\n",
       "      <th></th>\n",
       "      <th>mean</th>\n",
       "      <th>count</th>\n",
       "      <th>std</th>\n",
       "      <th>ci95_hi</th>\n",
       "      <th>ci95_lo</th>\n",
       "    </tr>\n",
       "    <tr>\n",
       "      <th>pizza_name</th>\n",
       "      <th></th>\n",
       "      <th></th>\n",
       "      <th></th>\n",
       "      <th></th>\n",
       "      <th></th>\n",
       "    </tr>\n",
       "  </thead>\n",
       "  <tbody>\n",
       "    <tr>\n",
       "      <th>The Italian Vegetables Pizza</th>\n",
       "      <td>1037.410256</td>\n",
       "      <td>117</td>\n",
       "      <td>171.169716</td>\n",
       "      <td>1068.426562</td>\n",
       "      <td>1006.393951</td>\n",
       "    </tr>\n",
       "  </tbody>\n",
       "</table>\n",
       "</div>"
      ],
      "text/plain": [
       "                                     mean  count         std      ci95_hi  \\\n",
       "pizza_name                                                                  \n",
       "The Italian Vegetables Pizza  1037.410256    117  171.169716  1068.426562   \n",
       "\n",
       "                                  ci95_lo  \n",
       "pizza_name                                 \n",
       "The Italian Vegetables Pizza  1006.393951  "
      ]
     },
     "execution_count": 39,
     "metadata": {},
     "output_type": "execute_result"
    }
   ],
   "source": [
    "rslt = stats.loc[stats['ci95_hi'] == 1068.4265622304822]\n",
    "rslt"
   ]
  },
  {
   "cell_type": "markdown",
   "id": "f81baa2f",
   "metadata": {
    "id": "f81baa2f"
   },
   "source": [
    "### Задание 5"
   ]
  },
  {
   "cell_type": "markdown",
   "id": "005c00f5",
   "metadata": {
    "id": "005c00f5"
   },
   "source": [
    "Также хозяину ресторана хочется убрать из меню пиццы с нестабильным временем изготовления. \n",
    "Давай найдем пиццу с самым широким доверительным интервалом.\n",
    "> Среди пицц, у которых за все время заказывали более 100 штук"
   ]
  },
  {
   "cell_type": "code",
   "execution_count": null,
   "id": "e1144c02",
   "metadata": {},
   "outputs": [],
   "source": [
    "stats['INT_ci'] = stats['ci95_hi'] -stats['ci95_lo']\n",
    "stats['INT_ci']"
   ]
  },
  {
   "cell_type": "code",
   "execution_count": 41,
   "id": "5f8ecdde",
   "metadata": {},
   "outputs": [
    {
     "data": {
      "text/plain": [
       "72.45233428890594"
      ]
     },
     "execution_count": 41,
     "metadata": {},
     "output_type": "execute_result"
    }
   ],
   "source": [
    "stats['INT_ci'].max()"
   ]
  },
  {
   "cell_type": "code",
   "execution_count": 42,
   "id": "11d2e221",
   "metadata": {},
   "outputs": [
    {
     "data": {
      "text/html": [
       "<div>\n",
       "<style scoped>\n",
       "    .dataframe tbody tr th:only-of-type {\n",
       "        vertical-align: middle;\n",
       "    }\n",
       "\n",
       "    .dataframe tbody tr th {\n",
       "        vertical-align: top;\n",
       "    }\n",
       "\n",
       "    .dataframe thead th {\n",
       "        text-align: right;\n",
       "    }\n",
       "</style>\n",
       "<table border=\"1\" class=\"dataframe\">\n",
       "  <thead>\n",
       "    <tr style=\"text-align: right;\">\n",
       "      <th></th>\n",
       "      <th>mean</th>\n",
       "      <th>count</th>\n",
       "      <th>std</th>\n",
       "      <th>ci95_hi</th>\n",
       "      <th>ci95_lo</th>\n",
       "      <th>INT_ci</th>\n",
       "    </tr>\n",
       "    <tr>\n",
       "      <th>pizza_name</th>\n",
       "      <th></th>\n",
       "      <th></th>\n",
       "      <th></th>\n",
       "      <th></th>\n",
       "      <th></th>\n",
       "      <th></th>\n",
       "    </tr>\n",
       "  </thead>\n",
       "  <tbody>\n",
       "    <tr>\n",
       "      <th>The Chicken Alfredo Pizza</th>\n",
       "      <td>1012.128713</td>\n",
       "      <td>101</td>\n",
       "      <td>185.749221</td>\n",
       "      <td>1048.35488</td>\n",
       "      <td>975.902546</td>\n",
       "      <td>72.452334</td>\n",
       "    </tr>\n",
       "  </tbody>\n",
       "</table>\n",
       "</div>"
      ],
      "text/plain": [
       "                                  mean  count         std     ci95_hi  \\\n",
       "pizza_name                                                              \n",
       "The Chicken Alfredo Pizza  1012.128713    101  185.749221  1048.35488   \n",
       "\n",
       "                              ci95_lo     INT_ci  \n",
       "pizza_name                                        \n",
       "The Chicken Alfredo Pizza  975.902546  72.452334  "
      ]
     },
     "execution_count": 42,
     "metadata": {},
     "output_type": "execute_result"
    }
   ],
   "source": [
    "rslt_1 = stats.loc[stats['INT_ci'] == 72.45233428890594]\n",
    "rslt_1"
   ]
  },
  {
   "cell_type": "markdown",
   "id": "b28393c5",
   "metadata": {
    "id": "b28393c5"
   },
   "source": [
    "## AB тестирование"
   ]
  },
  {
   "cell_type": "markdown",
   "id": "9dc3e5a8",
   "metadata": {
    "id": "9dc3e5a8"
   },
   "source": [
    "### Задание 6"
   ]
  },
  {
   "cell_type": "markdown",
   "id": "028eddf8",
   "metadata": {
    "id": "028eddf8"
   },
   "source": [
    "В качестве нулевой гипотезы (H0) выберем, что старый баннер лучше нового.  В качестве альтернативной гипотезы (H1) выберем, \n",
    "что новый баннер лучше старого. Построй 95% доверительный интервал для доли каждого из баннеров, используя метод \n",
    "[proportion_confint](https://www.statsmodels.org/devel/generated/statsmodels.stats.proportion.proportion_confint.html)\n",
    "библиотеки statsmodels. Пересекаются ли эти интервалы?"
   ]
  },
  {
   "cell_type": "code",
   "execution_count": 43,
   "id": "be2f9c8f",
   "metadata": {},
   "outputs": [],
   "source": [
    "df_1 = pd.read_csv('click.csv')"
   ]
  },
  {
   "cell_type": "code",
   "execution_count": 44,
   "id": "f4814800",
   "metadata": {},
   "outputs": [
    {
     "data": {
      "text/html": [
       "<div>\n",
       "<style scoped>\n",
       "    .dataframe tbody tr th:only-of-type {\n",
       "        vertical-align: middle;\n",
       "    }\n",
       "\n",
       "    .dataframe tbody tr th {\n",
       "        vertical-align: top;\n",
       "    }\n",
       "\n",
       "    .dataframe thead th {\n",
       "        text-align: right;\n",
       "    }\n",
       "</style>\n",
       "<table border=\"1\" class=\"dataframe\">\n",
       "  <thead>\n",
       "    <tr style=\"text-align: right;\">\n",
       "      <th></th>\n",
       "      <th>banner_a</th>\n",
       "      <th>banner_b</th>\n",
       "    </tr>\n",
       "  </thead>\n",
       "  <tbody>\n",
       "    <tr>\n",
       "      <th>0</th>\n",
       "      <td>0</td>\n",
       "      <td>0</td>\n",
       "    </tr>\n",
       "    <tr>\n",
       "      <th>1</th>\n",
       "      <td>1</td>\n",
       "      <td>1</td>\n",
       "    </tr>\n",
       "    <tr>\n",
       "      <th>2</th>\n",
       "      <td>0</td>\n",
       "      <td>0</td>\n",
       "    </tr>\n",
       "    <tr>\n",
       "      <th>3</th>\n",
       "      <td>0</td>\n",
       "      <td>0</td>\n",
       "    </tr>\n",
       "    <tr>\n",
       "      <th>4</th>\n",
       "      <td>0</td>\n",
       "      <td>0</td>\n",
       "    </tr>\n",
       "  </tbody>\n",
       "</table>\n",
       "</div>"
      ],
      "text/plain": [
       "   banner_a  banner_b\n",
       "0         0         0\n",
       "1         1         1\n",
       "2         0         0\n",
       "3         0         0\n",
       "4         0         0"
      ]
     },
     "execution_count": 44,
     "metadata": {},
     "output_type": "execute_result"
    }
   ],
   "source": [
    "df_1.head()"
   ]
  },
  {
   "cell_type": "code",
   "execution_count": 46,
   "id": "a2ca2b98",
   "metadata": {},
   "outputs": [
    {
     "name": "stdout",
     "output_type": "stream",
     "text": [
      "95% доверительный интервал для баннера 'banner_a': (0.02530064022092865, 0.04869935977907135)\n",
      "95% доверительный интервал для баннера 'banner_b': (0.03911451622486782, 0.06688548377513218)\n",
      "Интервалы пересекаются: True\n"
     ]
    }
   ],
   "source": [
    "import statsmodels.stats.proportion as proportion\n",
    "\n",
    "\n",
    "clicks_a = df_1['banner_a'].sum()\n",
    "total_a = len(df_1)\n",
    "\n",
    "\n",
    "clicks_b = df_1['banner_b'].sum()\n",
    "total_b = len(df_1)\n",
    "\n",
    "\n",
    "ci_a = proportion.proportion_confint(clicks_a, total_a, alpha=0.05)\n",
    "\n",
    "\n",
    "ci_b = proportion.proportion_confint(clicks_b, total_b, alpha=0.05)\n",
    "\n",
    "\n",
    "intervals_intersect = ci_a[1] >= ci_b[0] and ci_b[1] >= ci_a[0]\n",
    "\n",
    "print(\"95% доверительный интервал для баннера 'banner_a':\", ci_a)\n",
    "print(\"95% доверительный интервал для баннера 'banner_b':\", ci_b)\n",
    "print(\"Интервалы пересекаются:\", intervals_intersect)\n"
   ]
  },
  {
   "cell_type": "markdown",
   "id": "84ac442f",
   "metadata": {
    "id": "84ac442f"
   },
   "source": [
    "### Задание 7"
   ]
  },
  {
   "cell_type": "markdown",
   "id": "8d760d69",
   "metadata": {
    "id": "8d760d69"
   },
   "source": [
    "Для более детальной оценки построй 95% доверительный интервал для разности двух долей.\n",
    "**Ответ дай в формате:**\\\n",
    "95% доверительный интервал для разности двух долей: [0.99847, 9.99847]"
   ]
  },
  {
   "cell_type": "markdown",
   "id": "2f34dfbc",
   "metadata": {
    "id": "2f34dfbc"
   },
   "source": [
    "Левая и правая границы доверительного интервала рассчитываются по формулам:\n",
    "$$p_a - p_b \\pm z * \\sqrt{\\frac{p_a(1 - p_a)}{n_a} + \\frac{p_b(1 - p_b)}{n_b}}$$\n",
    "Где\n",
    "\n",
    "$p_a, p_b = \\frac{∑кликов}{n}$, n - общее количество кликов по баннеру\n",
    "\n",
    "$z = 1-\\frac{\\alpha}{2}$ (используй scipy.stats.norm.ppf)\n",
    "\n",
    "$n_a$ - общее количество кликов по баннеру а\n",
    "\n",
    "$n_b$ - общее количество кликов по баннеру b"
   ]
  },
  {
   "cell_type": "code",
   "execution_count": 47,
   "id": "83Wt0sersiLh",
   "metadata": {
    "colab": {
     "base_uri": "https://localhost:8080/"
    },
    "id": "83Wt0sersiLh",
    "outputId": "70cc505d-9057-4a34-c71b-d8dae2cdb5f4"
   },
   "outputs": [
    {
     "name": "stdout",
     "output_type": "stream",
     "text": [
      "95% доверительный интервал для разности двух долей: [-0.01658, 0.01658]\n"
     ]
    }
   ],
   "source": [
    "import numpy as np\n",
    "from scipy.stats import norm\n",
    "\n",
    "clicks_a = df_1['banner_a'].sum()\n",
    "total_a = len(df_1)\n",
    "\n",
    "clicks_b = df_1['banner_b'].sum()\n",
    "total_b = len(df_1)\n",
    "\n",
    "\n",
    "p_a = clicks_a / total_a\n",
    "p_b = clicks_b / total_b\n",
    "\n",
    "\n",
    "se = np.sqrt(p_a * (1 - p_a) / total_a + p_b * (1 - p_b) / total_b)\n",
    "\n",
    "\n",
    "z_value = norm.ppf(1 - 0.95 / 2)\n",
    "\n",
    "ci_low = p_a - p_b - z_value * se\n",
    "ci_high = -(p_a - p_b - z_value * se)\n",
    "\n",
    "\n",
    "confidence_interval = [ci_low.round(5), (ci_high.round(5))]\n",
    "print(\"95% доверительный интервал для разности двух долей:\", confidence_interval)\n"
   ]
  },
  {
   "cell_type": "markdown",
   "id": "adda94db",
   "metadata": {
    "id": "adda94db"
   },
   "source": [
    "### Задание 8"
   ]
  },
  {
   "cell_type": "markdown",
   "id": "b9f88120",
   "metadata": {
    "id": "b9f88120"
   },
   "source": [
    "Проведи АБ-тест. Какой баннер лучше? H0 - Старый баннер или H1 - новый баннер.\n",
    "В этом тебе поможем функция [z-критерия](code-samples/stats.py)."
   ]
  },
  {
   "cell_type": "markdown",
   "id": "771558cb",
   "metadata": {
    "id": "771558cb"
   },
   "source": [
    "$$Z({X_1, X_2}) =  \\frac{p_a - p_b}{\\sqrt{P(1 - P)(\\frac{1}{n_a} + \\frac{1}{n_b})}}$$\n",
    "$$P = \\frac{p_a{n_a} + p_b{n_b}}{{n_a} + {n_b}} $$\n",
    "\n",
    "$p_a, p_b = \\frac{∑кликов}{n}$, n - общее количество кликов по баннеру\n",
    "\n",
    "$n_a$ - общее количество кликов по баннеру а\n",
    "\n",
    "$n_b$ - общее количество кликов по баннеру b"
   ]
  },
  {
   "cell_type": "code",
   "execution_count": 48,
   "id": "c4349f01",
   "metadata": {
    "id": "c4349f01"
   },
   "outputs": [],
   "source": [
    "def z_stat(sample1, sample2):\n",
    "    n_a = len(sample1)\n",
    "    n_b = len(sample2)\n",
    "\n",
    "    p_a = float(sum(sample1)) / n_a\n",
    "    p_b = float(sum(sample2)) / n_b \n",
    "    P = float(p_a * n_a + p_b * n_b) / (n_a + n_b)\n",
    "  \n",
    "    return (p_a - p_b) / np.sqrt(P * (1 - P) * (1. / n_a + 1. / n_b))"
   ]
  },
  {
   "cell_type": "code",
   "execution_count": 49,
   "id": "b12d59dd",
   "metadata": {
    "colab": {
     "base_uri": "https://localhost:8080/"
    },
    "id": "b12d59dd",
    "outputId": "02cf2d6e-29de-47fd-aba1-24e5f894eb00"
   },
   "outputs": [
    {
     "name": "stdout",
     "output_type": "stream",
     "text": [
      "Отклоняем нулевую гипотезу\n",
      "Новый баннер лучше старого баннера.\n",
      "Z-статистика: -1.73\n",
      "P-значение: 0.04\n"
     ]
    }
   ],
   "source": [
    "clicks_a = df_1['banner_a'].values\n",
    "clicks_b = df_1['banner_b'].values\n",
    "\n",
    "\n",
    "z_statistic = z_stat(clicks_a, clicks_b)\n",
    "\n",
    "\n",
    "alpha = 0.95\n",
    "\n",
    "\n",
    "if z_statistic > 0:\n",
    "    p_value = 1 - norm.cdf(z_statistic)\n",
    "else:\n",
    "    p_value = norm.cdf(z_statistic)\n",
    "\n",
    "\n",
    "if p_value < alpha:\n",
    "    print(\"Отклоняем нулевую гипотезу\")\n",
    "    print(\"Новый баннер лучше старого баннера.\")\n",
    "else:\n",
    "    print(\"Не отклоняем нулевую гипотезу\")\n",
    "    print(\"Старый баннер так же хорош или лучше нового баннера.\")\n",
    "\n",
    "\n",
    "print(\"Z-статистика:\", z_statistic.round(2))\n",
    "print(\"P-значение:\", p_value.round(2))"
   ]
  },
  {
   "cell_type": "markdown",
   "id": "c33139fd",
   "metadata": {
    "id": "c33139fd"
   },
   "source": [
    "## Корреляции"
   ]
  },
  {
   "cell_type": "markdown",
   "id": "8a4a0430",
   "metadata": {
    "id": "8a4a0430"
   },
   "source": [
    "### Задание 9"
   ]
  },
  {
   "cell_type": "markdown",
   "id": "02de20e4",
   "metadata": {
    "id": "02de20e4"
   },
   "source": [
    "Прочитай про корреляции Пирсона и Спирмена. Узнай какие связи между выборками они способны находить. По сгенерированным выборкам посчитай коррелицию Пирсона и Спирмена для выборок `x-y1`, `x-y2`, `x-y3`. Отрисуй выборки в формате, как показано ниже:\n",
    "<img src=\"../misc/images/corr.png\">"
   ]
  },
  {
   "cell_type": "markdown",
   "id": "313a15d6",
   "metadata": {
    "id": "313a15d6"
   },
   "source": [
    "Объясни, почему получается такое значение корреляций."
   ]
  },
  {
   "cell_type": "code",
   "execution_count": null,
   "id": "5d260fe7",
   "metadata": {
    "id": "5d260fe7"
   },
   "outputs": [],
   "source": [
    "x = np.linspace(-10,10,100)\n",
    "y1 = x ** 2\n",
    "y2 = -x **2\n",
    "y3 = np.log(x ** 2 + 1)"
   ]
  },
  {
   "cell_type": "code",
   "execution_count": null,
   "id": "Yeji7CVM2Zum",
   "metadata": {
    "colab": {
     "base_uri": "https://localhost:8080/",
     "height": 256
    },
    "id": "Yeji7CVM2Zum",
    "outputId": "1b5d07fa-00bc-462d-e19f-3271f7971f56"
   },
   "outputs": [
    {
     "data": {
      "image/png": "[encoded data removed]",
      "text/plain": [
       "<Figure size 2000x600 with 3 Axes>"
      ]
     },
     "metadata": {},
     "output_type": "display_data"
    }
   ],
   "source": [
    "import numpy as np\n",
    "import matplotlib.pyplot as plt\n",
    "from scipy.stats import pearsonr, spearmanr\n",
    "\n",
    "x = np.linspace(-10, 10, 100)\n",
    "\n",
    "y = [x**2, -x**2, np.log(x**2 + 1)]\n",
    "\n",
    "fig, ax = plt.subplots(nrows = 1, ncols = 3, figsize = (20, 6))\n",
    "\n",
    "for i in [0, 1, 2]:\n",
    "  ax[i].scatter(x, y[i], s=2)\n",
    "  ax[i].title.set_text('Корреляция Пирсона = ' + format(np.corrcoef(x, y[i])[0,1],'.2f') + '\\n' +\n",
    "                       'Корреляция Спирмена = ' + format(stats.spearmanr(x, y[i]).statistic,'.2f'))\n",
    "  ax[i].set(xlabel='x', ylabel = 'y')\n",
    "\n",
    "plt.show()"
   ]
  },
  {
   "cell_type": "markdown",
   "id": "gULLOUZ4IKqi",
   "metadata": {
    "id": "gULLOUZ4IKqi"
   },
   "source": [
    "Для первого графика, y[0] = x^2, корреляция Пирсона и Спирмена будет равна 0, так как нет линейной или монотонной связи между x и y[0]. Второй график, y[1] = -x^2, также не имеет линейной или монотонной связи с x, поэтому корреляции Пирсона и Спирмена равны 0. Наконец, для третьего графика также нет линейной или монотонной связи с x, поэтому корреляции Пирсона и Спирмена также равны 0.\n",
    "\n",
    "В результате, значения корреляций Пирсона и Спирмена в данном коде демонстрируют отсутствие линейной или монотонной связи между x и соответствующими массивами y."
   ]
  },
  {
   "cell_type": "markdown",
   "id": "4917b9fb",
   "metadata": {
    "id": "4917b9fb"
   },
   "source": [
    "### Задание 10"
   ]
  },
  {
   "cell_type": "markdown",
   "id": "8dc4910b",
   "metadata": {
    "id": "8dc4910b"
   },
   "source": [
    "Построй облако из тысячи точек c помощью приведенного кода.\n",
    "Выведи значения коэффициентов корреляции.\n",
    "Случайным образом выбери четыре точки. Каждую из точек передвигать в правый верхний угол относительно облака точек \n",
    "(тем самым создавая выброс):\n",
    "значения по оси х 25, 50, 150, 650\n",
    "по оси y 20, 40, 60, 80.\n",
    "Выводи на графике перемещения точек.\n",
    "Для каждого расстояния рассчитай коэффициент корреляции Пирсона и Спирмана.\n",
    "Какая корреляция больше устойчива к выбросам?"
   ]
  },
  {
   "cell_type": "code",
   "execution_count": null,
   "id": "7269946b",
   "metadata": {
    "colab": {
     "base_uri": "https://localhost:8080/",
     "height": 430
    },
    "id": "7269946b",
    "outputId": "e1b1acfb-157b-4762-878a-e93dafa32adf"
   },
   "outputs": [
    {
     "data": {
      "image/png": "[encoded data removed]",
      "text/plain": [
       "<Figure size 640x480 with 1 Axes>"
      ]
     },
     "metadata": {},
     "output_type": "display_data"
    }
   ],
   "source": [
    "step = np.linspace(-10, 0, 1000)\n",
    "x = -step + np.random.randn(1000) * 0.2\n",
    "y = step + np.random.randn(1000)* 0.2\n",
    "\n",
    "plt.scatter(x, y, alpha=0.3)\n",
    "plt.show()"
   ]
  },
  {
   "cell_type": "code",
   "execution_count": null,
   "id": "sECUqnu48X82",
   "metadata": {
    "colab": {
     "base_uri": "https://localhost:8080/",
     "height": 430
    },
    "id": "sECUqnu48X82",
    "outputId": "950df4b3-4afb-48c8-c4dc-d3bbe9206e6a"
   },
   "outputs": [
    {
     "data": {
      "image/png": "[encoded data removed]",
      "text/plain": [
       "<Figure size 640x480 with 1 Axes>"
      ]
     },
     "metadata": {},
     "output_type": "display_data"
    }
   ],
   "source": [
    "# Выбросы\n",
    "outliers_x = np.array([25, 50, 150, 650])\n",
    "outliers_y = np.array([20, 40, 60, 80])\n",
    "\n",
    "plt.scatter(x, y, alpha = 0.3)\n",
    "for i in range(len(outliers_x)):\n",
    "  plt.scatter(outliers_x[i], outliers_y[i], color='red', alpha = 0.5)\n",
    "plt.show()"
   ]
  },
  {
   "cell_type": "code",
   "execution_count": null,
   "id": "JlbFLj2r9FxR",
   "metadata": {
    "id": "JlbFLj2r9FxR"
   },
   "outputs": [],
   "source": [
    "ind = [np.random.randint(0, 1000), np.random.randint(0, 1000), np.random.randint(0, 1000)]\n",
    "plus = [0, 25, 25, 100, 500, 0]\n",
    "l = [0, 25, 50, 150, 650]"
   ]
  },
  {
   "cell_type": "code",
   "execution_count": null,
   "id": "zTofawzT9qTo",
   "metadata": {
    "colab": {
     "base_uri": "https://localhost:8080/",
     "height": 550
    },
    "id": "zTofawzT9qTo",
    "outputId": "ac9c18e4-09fd-4252-e7c6-50878bcc7e15"
   },
   "outputs": [
    {
     "data": {
      "image/png": "[encoded data removed]",
      "text/plain": [
       "<Figure size 2000x600 with 5 Axes>"
      ]
     },
     "metadata": {},
     "output_type": "display_data"
    }
   ],
   "source": [
    "fig, ax =plt.subplots(nrows = 1, ncols = 5, figsize = (20, 6))\n",
    "for i in [0, 1, 2, 3, 4]:\n",
    "  ax[i].scatter(x, y, s=2)\n",
    "  ax[i].title.set_text(\"l= \" + str(l[i]) + '\\n' +\n",
    "                       'Корреляция Пирсона = ' + \"{:.2f}\".format(np.corrcoef(x, y)[0,1]) + '\\n' +\n",
    "                       'Корреляция Спирмена = ' + \"{:.2f}\".format(stats.spearmanr(x, y).statistic))\n",
    "  x[ind] += plus[i +1]\n",
    "  ax[i].set(xlabel = 'x', ylabel = 'y')\n",
    "  y[ind] +=20\n",
    "\n",
    "plt.show()           "
   ]
  },
  {
   "cell_type": "raw",
   "id": "2d7018b3",
   "metadata": {},
   "source": [
    "Значения коэффициента корреляции Пирсона интерпретируются исходя из его абсолютных значений. Возможные значения коэффициента корреляции варьируют от 0 до ±1\n"
   ]
  }
 ],
 "metadata": {
  "colab": {
   "provenance": []
  },
  "kernelspec": {
   "display_name": "Python 3 (ipykernel)",
   "language": "python",
   "name": "python3"
  },
  "language_info": {
   "codemirror_mode": {
    "name": "ipython",
    "version": 3
   },
   "file_extension": ".py",
   "mimetype": "text/x-python",
   "name": "python",
   "nbconvert_exporter": "python",
   "pygments_lexer": "ipython3",
   "version": "3.9.12"
  }
 },
 "nbformat": 4,
 "nbformat_minor": 5
}
